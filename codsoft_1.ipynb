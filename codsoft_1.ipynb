{
  "nbformat": 4,
  "nbformat_minor": 0,
  "metadata": {
    "colab": {
      "provenance": [],
      "authorship_tag": "ABX9TyPDgWgqCT9DGds7e8tHl6NQ",
      "include_colab_link": true
    },
    "kernelspec": {
      "name": "python3",
      "display_name": "Python 3"
    },
    "language_info": {
      "name": "python"
    }
  },
  "cells": [
    {
      "cell_type": "markdown",
      "metadata": {
        "id": "view-in-github",
        "colab_type": "text"
      },
      "source": [
        "<a href=\"https://colab.research.google.com/github/subhradeepbhaumick/CODSOFT/blob/main/codsoft_1.ipynb\" target=\"_parent\"><img src=\"https://colab.research.google.com/assets/colab-badge.svg\" alt=\"Open In Colab\"/></a>"
      ]
    },
    {
      "cell_type": "markdown",
      "source": [
        "## **Import Libraries**"
      ],
      "metadata": {
        "id": "2AAoGNUOSztD"
      }
    },
    {
      "source": [
        "import numpy as np\n",
        "import pandas as pd\n",
        "import matplotlib.pyplot as plt\n",
        "import seaborn as sns\n",
        "from sklearn.model_selection import train_test_split\n",
        "import nltk\n",
        "import re\n",
        "import string\n",
        "nltk.download('punkt_tab')\n",
        "from nltk.corpus import stopwords #for cleaning\n",
        "nltk.download('stopwords')\n",
        "from nltk.stem import LancasterStemmer #for cleaning\n",
        "from sklearn.feature_extraction.text import TfidfVectorizer\n",
        "from sklearn.svm import LinearSVC\n",
        "from sklearn.linear_model import LogisticRegression\n",
        "from sklearn.naive_bayes import MultinomialNB\n",
        "from sklearn.model_selection import train_test_split\n",
        "from sklearn.metrics import accuracy_score, classification_report, confusion_matrix"
      ],
      "cell_type": "code",
      "metadata": {
        "id": "iL8yOtcBSkt6",
        "colab": {
          "base_uri": "https://localhost:8080/"
        },
        "outputId": "5d718056-9104-441a-abc6-034aec2b784a",
        "collapsed": true
      },
      "execution_count": 2,
      "outputs": [
        {
          "output_type": "stream",
          "name": "stderr",
          "text": [
            "[nltk_data] Downloading package punkt_tab to /root/nltk_data...\n",
            "[nltk_data]   Package punkt_tab is already up-to-date!\n",
            "[nltk_data] Downloading package stopwords to /root/nltk_data...\n",
            "[nltk_data]   Package stopwords is already up-to-date!\n"
          ]
        }
      ]
    },
    {
      "cell_type": "markdown",
      "source": [
        "## **Read Train Data**"
      ],
      "metadata": {
        "id": "NeWqK8yJSvK5"
      }
    },
    {
      "cell_type": "code",
      "source": [
        "train_data= pd.read_csv(\"/content/train_data.txt\", sep=\":::\", names=[\"TITLE\",\"GENRE\",\"DESCRIPTION\"],engine=\"python\")\n",
        "print(train_data)\n",
        "train_data.describe()#to check unique genres\n",
        "train_data.isnull().sum()"
      ],
      "metadata": {
        "colab": {
          "base_uri": "https://localhost:8080/",
          "height": 646
        },
        "id": "J-iopj6GSxw5",
        "outputId": "c640bd91-ea69-428e-826e-deda33d1abbf",
        "collapsed": true
      },
      "execution_count": 3,
      "outputs": [
        {
          "output_type": "stream",
          "name": "stdout",
          "text": [
            "                                              TITLE          GENRE  \\\n",
            "1                     Oscar et la dame rose (2009)          drama    \n",
            "2                                     Cupid (1997)       thriller    \n",
            "3                 Young, Wild and Wonderful (1980)          adult    \n",
            "4                            The Secret Sin (1915)          drama    \n",
            "5                           The Unrecovered (2007)          drama    \n",
            "...                                             ...            ...   \n",
            "54210                              \"Bonino\" (1953)         comedy    \n",
            "54211                  Dead Girls Don't Cry (????)         horror    \n",
            "54212    Ronald Goedemondt: Ze bestaan echt (2008)    documentary    \n",
            "54213                     Make Your Own Bed (1944)         comedy    \n",
            "54214   Nature's Fury: Storm of the Century (2006)        history    \n",
            "\n",
            "                                             DESCRIPTION  \n",
            "1       Listening in to a conversation between his do...  \n",
            "2       A brother and sister with a past incestuous r...  \n",
            "3       As the bus empties the students for their fie...  \n",
            "4       To help their unemployed father make ends mee...  \n",
            "5       The film's title refers not only to the un-re...  \n",
            "...                                                  ...  \n",
            "54210   This short-lived NBC live sitcom centered on ...  \n",
            "54211   The NEXT Generation of EXPLOITATION. The sist...  \n",
            "54212   Ze bestaan echt, is a stand-up comedy about g...  \n",
            "54213   Walter and Vivian live in the country and hav...  \n",
            "54214   On Labor Day Weekend, 1935, the most intense ...  \n",
            "\n",
            "[54214 rows x 3 columns]\n"
          ]
        },
        {
          "output_type": "execute_result",
          "data": {
            "text/plain": [
              "TITLE          0\n",
              "GENRE          0\n",
              "DESCRIPTION    0\n",
              "dtype: int64"
            ],
            "text/html": [
              "<div>\n",
              "<style scoped>\n",
              "    .dataframe tbody tr th:only-of-type {\n",
              "        vertical-align: middle;\n",
              "    }\n",
              "\n",
              "    .dataframe tbody tr th {\n",
              "        vertical-align: top;\n",
              "    }\n",
              "\n",
              "    .dataframe thead th {\n",
              "        text-align: right;\n",
              "    }\n",
              "</style>\n",
              "<table border=\"1\" class=\"dataframe\">\n",
              "  <thead>\n",
              "    <tr style=\"text-align: right;\">\n",
              "      <th></th>\n",
              "      <th>0</th>\n",
              "    </tr>\n",
              "  </thead>\n",
              "  <tbody>\n",
              "    <tr>\n",
              "      <th>TITLE</th>\n",
              "      <td>0</td>\n",
              "    </tr>\n",
              "    <tr>\n",
              "      <th>GENRE</th>\n",
              "      <td>0</td>\n",
              "    </tr>\n",
              "    <tr>\n",
              "      <th>DESCRIPTION</th>\n",
              "      <td>0</td>\n",
              "    </tr>\n",
              "  </tbody>\n",
              "</table>\n",
              "</div><br><label><b>dtype:</b> int64</label>"
            ]
          },
          "metadata": {},
          "execution_count": 3
        }
      ]
    },
    {
      "cell_type": "markdown",
      "source": [
        "## **EDA & Check frequency of Genres**"
      ],
      "metadata": {
        "id": "V8IgOYsaYaKC"
      }
    },
    {
      "cell_type": "code",
      "source": [
        "plt.figure(figsize=(10,5))\n",
        "sns.countplot(data=train_data, y=\"GENRE\", order= train_data[\"GENRE\"].value_counts().index)\n",
        "plt.show()"
      ],
      "metadata": {
        "colab": {
          "base_uri": "https://localhost:8080/",
          "height": 341
        },
        "collapsed": true,
        "id": "PffSYtVdWzxr",
        "outputId": "0e881998-c068-4075-e706-3255879fe011"
      },
      "execution_count": 4,
      "outputs": [
        {
          "output_type": "display_data",
          "data": {
            "text/plain": [
              "<Figure size 1000x500 with 1 Axes>"
            ],
            "image/png": "[encoded data removed]"
          },
          "metadata": {}
        }
      ]
    },
    {
      "cell_type": "markdown",
      "source": [
        "## **Read Test Data & solution**"
      ],
      "metadata": {
        "id": "5XAkD625aBZj"
      }
    },
    {
      "cell_type": "code",
      "source": [
        "test_data= pd.read_csv(\"/content/test_data.txt\", sep=\":::\", names=[\"TITLE\",\"DESCRIPTION\"],engine=\"python\")\n",
        "print(test_data.head())\n",
        "test_data_sol=pd.read_csv(\"/content/test_data_solution.txt\", sep=\":::\", names=[\"TITLE\",\"GENRE\",\"DESCRIPTION\"],engine=\"python\")\n",
        "print(test_data_sol.head())"
      ],
      "metadata": {
        "colab": {
          "base_uri": "https://localhost:8080/"
        },
        "id": "u_J4e0GUYR6a",
        "outputId": "ddd7cd7a-9e9c-4b87-fd6b-e20c6e21557c",
        "collapsed": true
      },
      "execution_count": 5,
      "outputs": [
        {
          "output_type": "stream",
          "name": "stdout",
          "text": [
            "                           TITLE  \\\n",
            "1          Edgar's Lunch (1998)    \n",
            "2      La guerra de papá (1977)    \n",
            "3   Off the Beaten Track (2010)    \n",
            "4        Meu Amigo Hindu (2015)    \n",
            "5             Er nu zhai (1955)    \n",
            "\n",
            "                                         DESCRIPTION  \n",
            "1   L.R. Brane loves his life - his car, his apar...  \n",
            "2   Spain, March 1964: Quico is a very naughty ch...  \n",
            "3   One year in the life of Albin and his family ...  \n",
            "4   His father has died, he hasn't spoken with hi...  \n",
            "5   Before he was known internationally as a mart...  \n",
            "                           TITLE          GENRE  \\\n",
            "1          Edgar's Lunch (1998)       thriller    \n",
            "2      La guerra de papá (1977)         comedy    \n",
            "3   Off the Beaten Track (2010)    documentary    \n",
            "4        Meu Amigo Hindu (2015)          drama    \n",
            "5             Er nu zhai (1955)          drama    \n",
            "\n",
            "                                         DESCRIPTION  \n",
            "1   L.R. Brane loves his life - his car, his apar...  \n",
            "2   Spain, March 1964: Quico is a very naughty ch...  \n",
            "3   One year in the life of Albin and his family ...  \n",
            "4   His father has died, he hasn't spoken with hi...  \n",
            "5   Before he was known internationally as a mart...  \n"
          ]
        }
      ]
    },
    {
      "cell_type": "markdown",
      "source": [
        "## **Data Preprocessing**"
      ],
      "metadata": {
        "id": "yzunNORbaZrL"
      }
    },
    {
      "cell_type": "code",
      "source": [
        "stemmer = LancasterStemmer()#stemming-Reduce words to their root form\n",
        "stop_words = set(stopwords.words(\"english\"))  # Stopwords set like \"the\",\"and\",\"of\""
      ],
      "metadata": {
        "id": "XgfV4UpdxZxs"
      },
      "execution_count": 6,
      "outputs": []
    },
    {
      "cell_type": "code",
      "source": [
        "def preprocess_text(text):\n",
        "    text = re.sub(r\"[^\\w\\s]\", \"\", text)  # Remove special characters\n",
        "    text = text.lower()#Convert to lowercase\n",
        "    text = re.sub(r\"\\s+\", \" \", text)#Remove extra whitespace\n",
        "    text = re.sub(r'@\\S+', '', text)#removes mentions from the text.\n",
        "    text = re.sub(r'http\\S+', '', text)#removes URLs from the text.\n",
        "    text = re.sub(r'.pic\\S+', '', text)#removes image links (often ending with .pic) from the text.\n",
        "    text = re.sub(r'[^a-zA-Z+]', ' ', text)#replaces all non-alphanumeric characters (except +) with a space.\n",
        "    words = nltk.word_tokenize(text)#tokenization-split the cleaned text into individual words or tokens\n",
        "    text = \" \".join([i for i in words if i not in stop_words and len(i) > 2])#remove stop words\n",
        "    text = re.sub(r\"\\s+\", \" \", text).strip()  # Replace multiple spaces with a single space\n",
        "    text = \"\".join([i for i in text if i not in string.punctuation])#removes all punctuation from the text\n",
        "\n",
        "    return text"
      ],
      "metadata": {
        "id": "TbhtSDzcc8zU"
      },
      "execution_count": 7,
      "outputs": []
    },
    {
      "cell_type": "code",
      "source": [
        "train_data['TextCleaning'] = train_data['DESCRIPTION'].apply(preprocess_text)\n",
        "test_data['TextCleaning'] = test_data['DESCRIPTION'].apply(preprocess_text)"
      ],
      "metadata": {
        "id": "vuIa5UditRWF"
      },
      "execution_count": 8,
      "outputs": []
    },
    {
      "cell_type": "code",
      "source": [
        "train_data.head()"
      ],
      "metadata": {
        "colab": {
          "base_uri": "https://localhost:8080/",
          "height": 293
        },
        "id": "eKQS1SyoDx1A",
        "outputId": "03db88e2-9d42-49e1-f3a1-069db7c1d618"
      },
      "execution_count": 9,
      "outputs": [
        {
          "output_type": "execute_result",
          "data": {
            "text/plain": [
              "                                TITLE       GENRE  \\\n",
              "1       Oscar et la dame rose (2009)       drama    \n",
              "2                       Cupid (1997)    thriller    \n",
              "3   Young, Wild and Wonderful (1980)       adult    \n",
              "4              The Secret Sin (1915)       drama    \n",
              "5             The Unrecovered (2007)       drama    \n",
              "\n",
              "                                         DESCRIPTION  \\\n",
              "1   Listening in to a conversation between his do...   \n",
              "2   A brother and sister with a past incestuous r...   \n",
              "3   As the bus empties the students for their fie...   \n",
              "4   To help their unemployed father make ends mee...   \n",
              "5   The film's title refers not only to the un-re...   \n",
              "\n",
              "                                        TextCleaning  \n",
              "1  listening conversation doctor parents yearold ...  \n",
              "2  brother sister past incestuous relationship cu...  \n",
              "3  bus empties students field trip museum natural...  \n",
              "4  help unemployed father make ends meet edith tw...  \n",
              "5  films title refers unrecovered bodies ground z...  "
            ],
            "text/html": [
              "\n",
              "  <div id=\"df-eb9c5631-221a-4d22-a30a-fae38ed0706e\" class=\"colab-df-container\">\n",
              "    <div>\n",
              "<style scoped>\n",
              "    .dataframe tbody tr th:only-of-type {\n",
              "        vertical-align: middle;\n",
              "    }\n",
              "\n",
              "    .dataframe tbody tr th {\n",
              "        vertical-align: top;\n",
              "    }\n",
              "\n",
              "    .dataframe thead th {\n",
              "        text-align: right;\n",
              "    }\n",
              "</style>\n",
              "<table border=\"1\" class=\"dataframe\">\n",
              "  <thead>\n",
              "    <tr style=\"text-align: right;\">\n",
              "      <th></th>\n",
              "      <th>TITLE</th>\n",
              "      <th>GENRE</th>\n",
              "      <th>DESCRIPTION</th>\n",
              "      <th>TextCleaning</th>\n",
              "    </tr>\n",
              "  </thead>\n",
              "  <tbody>\n",
              "    <tr>\n",
              "      <th>1</th>\n",
              "      <td>Oscar et la dame rose (2009)</td>\n",
              "      <td>drama</td>\n",
              "      <td>Listening in to a conversation between his do...</td>\n",
              "      <td>listening conversation doctor parents yearold ...</td>\n",
              "    </tr>\n",
              "    <tr>\n",
              "      <th>2</th>\n",
              "      <td>Cupid (1997)</td>\n",
              "      <td>thriller</td>\n",
              "      <td>A brother and sister with a past incestuous r...</td>\n",
              "      <td>brother sister past incestuous relationship cu...</td>\n",
              "    </tr>\n",
              "    <tr>\n",
              "      <th>3</th>\n",
              "      <td>Young, Wild and Wonderful (1980)</td>\n",
              "      <td>adult</td>\n",
              "      <td>As the bus empties the students for their fie...</td>\n",
              "      <td>bus empties students field trip museum natural...</td>\n",
              "    </tr>\n",
              "    <tr>\n",
              "      <th>4</th>\n",
              "      <td>The Secret Sin (1915)</td>\n",
              "      <td>drama</td>\n",
              "      <td>To help their unemployed father make ends mee...</td>\n",
              "      <td>help unemployed father make ends meet edith tw...</td>\n",
              "    </tr>\n",
              "    <tr>\n",
              "      <th>5</th>\n",
              "      <td>The Unrecovered (2007)</td>\n",
              "      <td>drama</td>\n",
              "      <td>The film's title refers not only to the un-re...</td>\n",
              "      <td>films title refers unrecovered bodies ground z...</td>\n",
              "    </tr>\n",
              "  </tbody>\n",
              "</table>\n",
              "</div>\n",
              "    <div class=\"colab-df-buttons\">\n",
              "\n",
              "  <div class=\"colab-df-container\">\n",
              "    <button class=\"colab-df-convert\" onclick=\"convertToInteractive('df-eb9c5631-221a-4d22-a30a-fae38ed0706e')\"\n",
              "            title=\"Convert this dataframe to an interactive table.\"\n",
              "            style=\"display:none;\">\n",
              "\n",
              "  <svg xmlns=\"http://www.w3.org/2000/svg\" height=\"24px\" viewBox=\"0 -960 960 960\">\n",
              "    <path d=\"M120-120v-720h720v720H120Zm60-500h600v-160H180v160Zm220 220h160v-160H400v160Zm0 220h160v-160H400v160ZM180-400h160v-160H180v160Zm440 0h160v-160H620v160ZM180-180h160v-160H180v160Zm440 0h160v-160H620v160Z\"/>\n",
              "  </svg>\n",
              "    </button>\n",
              "\n",
              "  <style>\n",
              "    .colab-df-container {\n",
              "      display:flex;\n",
              "      gap: 12px;\n",
              "    }\n",
              "\n",
              "    .colab-df-convert {\n",
              "      background-color: #E8F0FE;\n",
              "      border: none;\n",
              "      border-radius: 50%;\n",
              "      cursor: pointer;\n",
              "      display: none;\n",
              "      fill: #1967D2;\n",
              "      height: 32px;\n",
              "      padding: 0 0 0 0;\n",
              "      width: 32px;\n",
              "    }\n",
              "\n",
              "    .colab-df-convert:hover {\n",
              "      background-color: #E2EBFA;\n",
              "      box-shadow: 0px 1px 2px rgba(60, 64, 67, 0.3), 0px 1px 3px 1px rgba(60, 64, 67, 0.15);\n",
              "      fill: #174EA6;\n",
              "    }\n",
              "\n",
              "    .colab-df-buttons div {\n",
              "      margin-bottom: 4px;\n",
              "    }\n",
              "\n",
              "    [theme=dark] .colab-df-convert {\n",
              "      background-color: #3B4455;\n",
              "      fill: #D2E3FC;\n",
              "    }\n",
              "\n",
              "    [theme=dark] .colab-df-convert:hover {\n",
              "      background-color: #434B5C;\n",
              "      box-shadow: 0px 1px 3px 1px rgba(0, 0, 0, 0.15);\n",
              "      filter: drop-shadow(0px 1px 2px rgba(0, 0, 0, 0.3));\n",
              "      fill: #FFFFFF;\n",
              "    }\n",
              "  </style>\n",
              "\n",
              "    <script>\n",
              "      const buttonEl =\n",
              "        document.querySelector('#df-eb9c5631-221a-4d22-a30a-fae38ed0706e button.colab-df-convert');\n",
              "      buttonEl.style.display =\n",
              "        google.colab.kernel.accessAllowed ? 'block' : 'none';\n",
              "\n",
              "      async function convertToInteractive(key) {\n",
              "        const element = document.querySelector('#df-eb9c5631-221a-4d22-a30a-fae38ed0706e');\n",
              "        const dataTable =\n",
              "          await google.colab.kernel.invokeFunction('convertToInteractive',\n",
              "                                                    [key], {});\n",
              "        if (!dataTable) return;\n",
              "\n",
              "        const docLinkHtml = 'Like what you see? Visit the ' +\n",
              "          '<a target=\"_blank\" href=https://colab.research.google.com/notebooks/data_table.ipynb>data table notebook</a>'\n",
              "          + ' to learn more about interactive tables.';\n",
              "        element.innerHTML = '';\n",
              "        dataTable['output_type'] = 'display_data';\n",
              "        await google.colab.output.renderOutput(dataTable, element);\n",
              "        const docLink = document.createElement('div');\n",
              "        docLink.innerHTML = docLinkHtml;\n",
              "        element.appendChild(docLink);\n",
              "      }\n",
              "    </script>\n",
              "  </div>\n",
              "\n",
              "\n",
              "<div id=\"df-88bae9fb-642e-4ef4-b8d2-e7111d87e3e3\">\n",
              "  <button class=\"colab-df-quickchart\" onclick=\"quickchart('df-88bae9fb-642e-4ef4-b8d2-e7111d87e3e3')\"\n",
              "            title=\"Suggest charts\"\n",
              "            style=\"display:none;\">\n",
              "\n",
              "<svg xmlns=\"http://www.w3.org/2000/svg\" height=\"24px\"viewBox=\"0 0 24 24\"\n",
              "     width=\"24px\">\n",
              "    <g>\n",
              "        <path d=\"M19 3H5c-1.1 0-2 .9-2 2v14c0 1.1.9 2 2 2h14c1.1 0 2-.9 2-2V5c0-1.1-.9-2-2-2zM9 17H7v-7h2v7zm4 0h-2V7h2v10zm4 0h-2v-4h2v4z\"/>\n",
              "    </g>\n",
              "</svg>\n",
              "  </button>\n",
              "\n",
              "<style>\n",
              "  .colab-df-quickchart {\n",
              "      --bg-color: #E8F0FE;\n",
              "      --fill-color: #1967D2;\n",
              "      --hover-bg-color: #E2EBFA;\n",
              "      --hover-fill-color: #174EA6;\n",
              "      --disabled-fill-color: #AAA;\n",
              "      --disabled-bg-color: #DDD;\n",
              "  }\n",
              "\n",
              "  [theme=dark] .colab-df-quickchart {\n",
              "      --bg-color: #3B4455;\n",
              "      --fill-color: #D2E3FC;\n",
              "      --hover-bg-color: #434B5C;\n",
              "      --hover-fill-color: #FFFFFF;\n",
              "      --disabled-bg-color: #3B4455;\n",
              "      --disabled-fill-color: #666;\n",
              "  }\n",
              "\n",
              "  .colab-df-quickchart {\n",
              "    background-color: var(--bg-color);\n",
              "    border: none;\n",
              "    border-radius: 50%;\n",
              "    cursor: pointer;\n",
              "    display: none;\n",
              "    fill: var(--fill-color);\n",
              "    height: 32px;\n",
              "    padding: 0;\n",
              "    width: 32px;\n",
              "  }\n",
              "\n",
              "  .colab-df-quickchart:hover {\n",
              "    background-color: var(--hover-bg-color);\n",
              "    box-shadow: 0 1px 2px rgba(60, 64, 67, 0.3), 0 1px 3px 1px rgba(60, 64, 67, 0.15);\n",
              "    fill: var(--button-hover-fill-color);\n",
              "  }\n",
              "\n",
              "  .colab-df-quickchart-complete:disabled,\n",
              "  .colab-df-quickchart-complete:disabled:hover {\n",
              "    background-color: var(--disabled-bg-color);\n",
              "    fill: var(--disabled-fill-color);\n",
              "    box-shadow: none;\n",
              "  }\n",
              "\n",
              "  .colab-df-spinner {\n",
              "    border: 2px solid var(--fill-color);\n",
              "    border-color: transparent;\n",
              "    border-bottom-color: var(--fill-color);\n",
              "    animation:\n",
              "      spin 1s steps(1) infinite;\n",
              "  }\n",
              "\n",
              "  @keyframes spin {\n",
              "    0% {\n",
              "      border-color: transparent;\n",
              "      border-bottom-color: var(--fill-color);\n",
              "      border-left-color: var(--fill-color);\n",
              "    }\n",
              "    20% {\n",
              "      border-color: transparent;\n",
              "      border-left-color: var(--fill-color);\n",
              "      border-top-color: var(--fill-color);\n",
              "    }\n",
              "    30% {\n",
              "      border-color: transparent;\n",
              "      border-left-color: var(--fill-color);\n",
              "      border-top-color: var(--fill-color);\n",
              "      border-right-color: var(--fill-color);\n",
              "    }\n",
              "    40% {\n",
              "      border-color: transparent;\n",
              "      border-right-color: var(--fill-color);\n",
              "      border-top-color: var(--fill-color);\n",
              "    }\n",
              "    60% {\n",
              "      border-color: transparent;\n",
              "      border-right-color: var(--fill-color);\n",
              "    }\n",
              "    80% {\n",
              "      border-color: transparent;\n",
              "      border-right-color: var(--fill-color);\n",
              "      border-bottom-color: var(--fill-color);\n",
              "    }\n",
              "    90% {\n",
              "      border-color: transparent;\n",
              "      border-bottom-color: var(--fill-color);\n",
              "    }\n",
              "  }\n",
              "</style>\n",
              "\n",
              "  <script>\n",
              "    async function quickchart(key) {\n",
              "      const quickchartButtonEl =\n",
              "        document.querySelector('#' + key + ' button');\n",
              "      quickchartButtonEl.disabled = true;  // To prevent multiple clicks.\n",
              "      quickchartButtonEl.classList.add('colab-df-spinner');\n",
              "      try {\n",
              "        const charts = await google.colab.kernel.invokeFunction(\n",
              "            'suggestCharts', [key], {});\n",
              "      } catch (error) {\n",
              "        console.error('Error during call to suggestCharts:', error);\n",
              "      }\n",
              "      quickchartButtonEl.classList.remove('colab-df-spinner');\n",
              "      quickchartButtonEl.classList.add('colab-df-quickchart-complete');\n",
              "    }\n",
              "    (() => {\n",
              "      let quickchartButtonEl =\n",
              "        document.querySelector('#df-88bae9fb-642e-4ef4-b8d2-e7111d87e3e3 button');\n",
              "      quickchartButtonEl.style.display =\n",
              "        google.colab.kernel.accessAllowed ? 'block' : 'none';\n",
              "    })();\n",
              "  </script>\n",
              "</div>\n",
              "\n",
              "    </div>\n",
              "  </div>\n"
            ],
            "application/vnd.google.colaboratory.intrinsic+json": {
              "type": "dataframe",
              "variable_name": "train_data",
              "summary": "{\n  \"name\": \"train_data\",\n  \"rows\": 54214,\n  \"fields\": [\n    {\n      \"column\": \"TITLE\",\n      \"properties\": {\n        \"dtype\": \"string\",\n        \"num_unique_values\": 54214,\n        \"samples\": [\n          \" Sisterhood (2008) \",\n          \" Idylle (1983) \",\n          \" The Lost Skeleton Returns Again (2009) \"\n        ],\n        \"semantic_type\": \"\",\n        \"description\": \"\"\n      }\n    },\n    {\n      \"column\": \"GENRE\",\n      \"properties\": {\n        \"dtype\": \"category\",\n        \"num_unique_values\": 27,\n        \"samples\": [\n          \" sport \",\n          \" sci-fi \",\n          \" animation \"\n        ],\n        \"semantic_type\": \"\",\n        \"description\": \"\"\n      }\n    },\n    {\n      \"column\": \"DESCRIPTION\",\n      \"properties\": {\n        \"dtype\": \"string\",\n        \"num_unique_values\": 54086,\n        \"samples\": [\n          \" When a celestial event causes a depressed call centre employee to gain amazing abilities, he is told that he is actually the reincarnation of a powerful warrior. With his new-found ally, he must find out who he must become before the forces who seek his destruction find him.\",\n          \" Set against a lush Western Indian landscape during the monsoon season, CHITRAKUT delicately sets the tone, interweaving the lives of Saloni, Shaan, Debu, Alisha and Kim - all converging at different intersections of life, discovering the meaning of love, encapsulating fractured feelings, consumption of romantic longing and fleeting moments.\",\n          \" It is just after midnight. A family is fast asleep on a vast sofa in\\u00a0front of a television. They are woken abruptly by the sound track of the film they are watching, and find themselves being quite literally\\u00a0moved by the exhilarating sounds and images emanating from the\\u00a0screen.\"\n        ],\n        \"semantic_type\": \"\",\n        \"description\": \"\"\n      }\n    },\n    {\n      \"column\": \"TextCleaning\",\n      \"properties\": {\n        \"dtype\": \"string\",\n        \"num_unique_values\": 54077,\n        \"samples\": [\n          \"homeland meets parenthood authentic experience cia officer fighting topsecret domestic war terror series focus acts espionage also untold personal challenges like healthy marriage raising kids balancing personal life highstakes work unprecedented look real ups downs hero happens home mission ended\",\n          \"soviet epic television series based novel anatoly ivanov starred mosfilm materials events half century traced history film siberian savelevyh family villagers pass three wars revolution great patriotic war soviet government approval\",\n          \"time running living last days coming messiah ambassadors mashiach directed inspired led spirit god prophetic word sent nations tell people get ready coming says lord experience love power true living god witness prophetic events took place last blood moon film features many influential leaders across world israel nations\"\n        ],\n        \"semantic_type\": \"\",\n        \"description\": \"\"\n      }\n    }\n  ]\n}"
            }
          },
          "metadata": {},
          "execution_count": 9
        }
      ]
    },
    {
      "cell_type": "markdown",
      "source": [
        "## **TF-IDF to vectorize the data**"
      ],
      "metadata": {
        "id": "VWrTh0qcIvPP"
      }
    },
    {
      "cell_type": "code",
      "source": [
        "#use TF-IDF to convert the preprocessed text into numerical representations\n",
        "vectorize = TfidfVectorizer()\n",
        "X_train = vectorize.fit_transform(train_data[\"TextCleaning\"])\n",
        "X_test = vectorize.transform(test_data[\"TextCleaning\"])"
      ],
      "metadata": {
        "id": "yaDGH6DAElSH"
      },
      "execution_count": 10,
      "outputs": []
    },
    {
      "cell_type": "markdown",
      "source": [
        "## **Spilt and Train a Model**"
      ],
      "metadata": {
        "id": "hqYI8TQzghF2"
      }
    },
    {
      "cell_type": "code",
      "source": [
        "X=vectorize.fit_transform(train_data[\"TextCleaning\"])\n",
        "y=train_data[\"GENRE\"]\n",
        "X_train, X_test, Y_train, Y_test = train_test_split(X, y, test_size= 0.25, random_state=100)"
      ],
      "metadata": {
        "id": "8xuAiO0hijeh"
      },
      "execution_count": 11,
      "outputs": []
    },
    {
      "cell_type": "markdown",
      "source": [
        "## **Model Training**"
      ],
      "metadata": {
        "id": "0B3Ys0wtmqNh"
      }
    },
    {
      "cell_type": "code",
      "source": [
        "mnb=MultinomialNB()\n",
        "lgc=LogisticRegression()\n",
        "svc=LinearSVC()"
      ],
      "metadata": {
        "id": "vGD0F9mtVTVO"
      },
      "execution_count": 12,
      "outputs": []
    },
    {
      "cell_type": "markdown",
      "source": [
        "## **Logistic Regression**"
      ],
      "metadata": {
        "id": "TAxbaZCCWOYc"
      }
    },
    {
      "cell_type": "code",
      "source": [
        "lgc= LogisticRegression(max_iter=1000)\n",
        "lgc.fit(X_train, Y_train)\n",
        "lgc.score(X_test,Y_test)"
      ],
      "metadata": {
        "colab": {
          "base_uri": "https://localhost:8080/"
        },
        "id": "bkPWivwBWwtd",
        "outputId": "802b6231-a89d-4a6a-f45d-7c4e1b44189e"
      },
      "execution_count": 26,
      "outputs": [
        {
          "output_type": "execute_result",
          "data": {
            "text/plain": [
              "0.5887560867640549"
            ]
          },
          "metadata": {},
          "execution_count": 26
        }
      ]
    },
    {
      "cell_type": "markdown",
      "source": [
        "## **SVM**"
      ],
      "metadata": {
        "id": "UdL8NKhlXoff"
      }
    },
    {
      "cell_type": "code",
      "source": [
        "svc.fit(X_train, Y_train)\n",
        "svc.score(X_test,Y_test)"
      ],
      "metadata": {
        "colab": {
          "base_uri": "https://localhost:8080/"
        },
        "id": "Wx735pMpXtFh",
        "outputId": "0fd1fc6f-8a33-478c-940b-81cd3376bdbe"
      },
      "execution_count": 14,
      "outputs": [
        {
          "output_type": "execute_result",
          "data": {
            "text/plain": [
              "0.5924450346761104"
            ]
          },
          "metadata": {},
          "execution_count": 14
        }
      ]
    },
    {
      "cell_type": "markdown",
      "source": [
        "## **Naive Bayes**"
      ],
      "metadata": {
        "id": "2LEl05pEXx2u"
      }
    },
    {
      "cell_type": "code",
      "source": [
        "mnb.fit(X_train, Y_train)\n",
        "mnb.score(X_test,Y_test)"
      ],
      "metadata": {
        "colab": {
          "base_uri": "https://localhost:8080/"
        },
        "id": "7ASUGbY5X39t",
        "outputId": "a924c5c2-4ddb-4bcd-ff5d-572633abc005"
      },
      "execution_count": 16,
      "outputs": [
        {
          "output_type": "execute_result",
          "data": {
            "text/plain": [
              "0.44621513944223107"
            ]
          },
          "metadata": {},
          "execution_count": 16
        }
      ]
    },
    {
      "cell_type": "markdown",
      "source": [
        "## **Predicting and Evaluating model performance**"
      ],
      "metadata": {
        "id": "VkiBriqHYTSV"
      }
    },
    {
      "cell_type": "code",
      "source": [
        "ypred_test_lgc=lgc.predict(X_test)\n",
        "ypred_train_lgc=lgc.predict(X_train)\n",
        "print(\"Logistic Regression:--\")\n",
        "print(\"Train accuracy:\", accuracy_score(Y_train, ypred_train_lgc))\n",
        "print(\"Test accuracy:\", accuracy_score(Y_test, ypred_test_lgc))\n",
        "# print(\"Train classification report:\")\n",
        "# print(classification_report(Y_train, ypred_train_lgc,zero_division=0))\n",
        "\n",
        "ypred_test_mnb=mnb.predict(X_test)\n",
        "ypred_train_mnb=mnb.predict(X_train)\n",
        "print(\"\\nNAive Bayes:--\")\n",
        "print(\"Train accuracy:\", accuracy_score(Y_train, ypred_train_mnb))\n",
        "print(\"Test accuracy:\", accuracy_score(Y_test, ypred_test_mnb))\n",
        "# print(\"Test classification report:\")\n",
        "# print(classification_report(Y_test, ypred_test_mnb,zero_division=0))\n",
        "\n",
        "ypred_test_svc=svc.predict(X_test)\n",
        "ypred_train_svc=svc.predict(X_train)\n",
        "print(\"\\nSupport Vector Machine:--\")\n",
        "print(\"Train accuracy:\", accuracy_score(Y_train, ypred_train_svc))\n",
        "print(\"Test accuracy:\", accuracy_score(Y_test, ypred_test_svc))"
      ],
      "metadata": {
        "colab": {
          "base_uri": "https://localhost:8080/"
        },
        "id": "rfGvQNRqYVGW",
        "outputId": "c2633c00-4d09-4db3-9c03-523f7f70cc62"
      },
      "execution_count": 17,
      "outputs": [
        {
          "output_type": "stream",
          "name": "stdout",
          "text": [
            "Logistic Regression:--\n",
            "Train accuracy: 0.7026315789473684\n",
            "Test accuracy: 0.5852884757267227\n",
            "\n",
            "NAive Bayes:--\n",
            "Train accuracy: 0.4668470241023119\n",
            "Test accuracy: 0.44621513944223107\n",
            "\n",
            "Support Vector Machine:--\n",
            "Train accuracy: 0.9869158878504672\n",
            "Test accuracy: 0.5924450346761104\n"
          ]
        }
      ]
    }
  ]
}